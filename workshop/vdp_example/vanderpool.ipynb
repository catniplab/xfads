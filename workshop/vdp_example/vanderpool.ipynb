{
 "cells": [
  {
   "cell_type": "code",
   "execution_count": 1,
   "id": "93a76195-f3aa-4ff3-b6f4-2dba07c83f75",
   "metadata": {},
   "outputs": [],
   "source": [
    "import os\n",
    "import sys\n",
    "\n",
    "import matplotlib.pyplot as plt\n",
    "from hydra import compose, initialize\n",
    "\n",
    "MODULES_PATH = os.path.dirname(os.path.dirname(os.getcwd()))\n",
    "\n",
    "if MODULES_PATH not in sys.path:\n",
    "    sys.path.append(MODULES_PATH)\n",
    "    \n",
    "import math\n",
    "import torch\n",
    "import torch.nn as nn\n",
    "\n",
    "import pytorch_lightning as lightning\n",
    "from pytorch_lightning.loggers import CSVLogger\n",
    "from pytorch_lightning.callbacks import ModelCheckpoint \n",
    "\n",
    "import dev.utils as utils\n",
    "\n",
    "from dev.ssm_modules.dynamics import DenseGaussianDynamics\n",
    "from dev.ssm_modules.likelihoods import GaussianLikelihood\n",
    "from dev.smoothers.lightning_trainers import LightningNonlinearSSM\n",
    "from dev.ssm_modules.dynamics import DenseGaussianInitialCondition\n",
    "from dev.ssm_modules.encoders import LocalEncoderLRMvn, BackwardEncoderLRMvn\n",
    "from dev.smoothers.nonlinear_smoother_causal import NonlinearFilter, LowRankNonlinearStateSpaceModel"
   ]
  },
  {
   "cell_type": "code",
   "execution_count": 3,
   "id": "2a4d6c23-a20e-411c-9f9f-f545674527e3",
   "metadata": {},
   "outputs": [],
   "source": [
    "torch.cuda.empty_cache()"
   ]
  },
  {
   "cell_type": "code",
   "execution_count": 5,
   "id": "f71e04c4-7c5c-4952-9bac-f6206078f72e",
   "metadata": {},
   "outputs": [
    {
     "name": "stderr",
     "output_type": "stream",
     "text": [
      "Seed set to 1234\n"
     ]
    }
   ],
   "source": [
    "\"\"\"config\"\"\"\n",
    "\n",
    "initialize(version_base=None, config_path=\"\", job_name=\"lds\")\n",
    "cfg = compose(config_name=\"config\")\n",
    "lightning.seed_everything(cfg.seed, workers=True)\n",
    "torch.set_default_dtype(torch.float32)"
   ]
  },
  {
   "cell_type": "code",
   "execution_count": 7,
   "id": "7ba708e1-5816-4340-9780-3c96ca8fea31",
   "metadata": {
    "tags": []
   },
   "outputs": [],
   "source": [
    "\"\"\"generate data -- 2d oscillator with decay\"\"\"\n",
    "\n",
    "n_trials = 500\n",
    "n_neurons = 100\n",
    "n_time_bins = 250\n",
    "\n",
    "C = utils.FanInLinear(cfg.n_latents, n_neurons, device=cfg.device).requires_grad_(False)\n",
    "Q_diag = 1e-3 * torch.ones(cfg.n_latents, device=cfg.device)\n",
    "Q_0_diag = 2. * torch.ones(cfg.n_latents, device=cfg.device)\n",
    "R_diag = 1e-1 * torch.ones(n_neurons, device=cfg.device)\n",
    "m_0 = torch.zeros(cfg.n_latents, device=cfg.device)\n",
    "\n",
    "mean_fn = utils.VdpDynamicsModel()\n",
    "\n",
    "z = utils.sample_gauss_z(mean_fn, Q_diag, m_0, Q_0_diag, n_trials, n_time_bins)\n",
    "y = C(z) + torch.sqrt(R_diag) * torch.randn((n_trials, n_time_bins, n_neurons), device=cfg.device)\n",
    "y = y.detach()\n",
    "\n",
    "y_train, z_train = y[:2*n_trials//3], z[:2*n_trials//3]\n",
    "y_valid, z_valid = y[2*n_trials//3:], z[2*n_trials//3:]"
   ]
  },
  {
   "cell_type": "code",
   "execution_count": 9,
   "id": "533c8934-1d0c-44b1-964f-aeddd538e30e",
   "metadata": {
    "tags": []
   },
   "outputs": [],
   "source": [
    "y_train_dataset = torch.utils.data.TensorDataset(y_train,)\n",
    "y_valid_dataset = torch.utils.data.TensorDataset(y_valid,)\n",
    "\n",
    "train_dataloader = torch.utils.data.DataLoader(\n",
    "    y_train_dataset,\n",
    "    batch_size=cfg.batch_sz,\n",
    "    shuffle=True,\n",
    "    num_workers=9\n",
    ")\n",
    "\n",
    "valid_dataloader = torch.utils.data.DataLoader(\n",
    "    y_valid_dataset,\n",
    "    batch_size=cfg.batch_sz,\n",
    "    shuffle=True,\n",
    ")"
   ]
  },
  {
   "cell_type": "code",
   "execution_count": 11,
   "id": "78f2f94f-e07c-4743-8217-baebe5fd1498",
   "metadata": {
    "tags": []
   },
   "outputs": [],
   "source": [
    "\"\"\"likelihood pdf\"\"\"\n",
    "\n",
    "likelihood_pdf = GaussianLikelihood(C, n_neurons, R_diag, device=cfg.device)"
   ]
  },
  {
   "cell_type": "code",
   "execution_count": 13,
   "id": "7a642862-60f5-4b31-843c-9948a23ec718",
   "metadata": {
    "tags": []
   },
   "outputs": [],
   "source": [
    "\"\"\"dynamics module\"\"\"\n",
    "\n",
    "dynamics_fn = utils.build_gru_dynamics_function(cfg.n_latents, cfg.n_hidden_dynamics, device=cfg.device)\n",
    "dynamics_mod = DenseGaussianDynamics(dynamics_fn, cfg.n_latents, Q_diag, device=cfg.device)"
   ]
  },
  {
   "cell_type": "code",
   "execution_count": 15,
   "id": "2f6e51ba-e9e4-446b-81f5-3173cd33ced3",
   "metadata": {
    "tags": []
   },
   "outputs": [],
   "source": [
    "\"\"\"initial condition\"\"\"\n",
    "\n",
    "initial_condition_pdf = DenseGaussianInitialCondition(cfg.n_latents, m_0, Q_0_diag, device=cfg.device)"
   ]
  },
  {
   "cell_type": "code",
   "execution_count": 17,
   "id": "4d8483e4-1b0b-45f7-a977-715460114603",
   "metadata": {
    "tags": []
   },
   "outputs": [],
   "source": [
    "\"\"\"local/backward encoder\"\"\"\n",
    "\n",
    "backward_encoder = BackwardEncoderLRMvn(cfg.n_latents, cfg.n_hidden_backward, cfg.n_latents,\n",
    "                                        rank_local=cfg.rank_local, rank_backward=cfg.rank_backward,\n",
    "                                        device=cfg.device)\n",
    "\n",
    "local_encoder = LocalEncoderLRMvn(cfg.n_latents, n_neurons, cfg.n_hidden_local, cfg.n_latents, rank=cfg.rank_local,\n",
    "                                  device=cfg.device, dropout=cfg.p_local_dropout)\n",
    "\n",
    "nl_filter = NonlinearFilter(dynamics_mod, initial_condition_pdf, device=cfg.device)"
   ]
  },
  {
   "cell_type": "code",
   "execution_count": 19,
   "id": "6934f306-1222-4cf9-b828-36c562ec89b5",
   "metadata": {
    "tags": []
   },
   "outputs": [],
   "source": [
    "\"\"\"sequence vae\"\"\"\n",
    "\n",
    "ssm = LowRankNonlinearStateSpaceModel(dynamics_mod, likelihood_pdf, initial_condition_pdf, backward_encoder,\n",
    "                                      local_encoder, nl_filter, device=cfg.device)"
   ]
  },
  {
   "cell_type": "code",
   "execution_count": 21,
   "id": "8cba5887-c8e3-453d-adf3-dfe58a347532",
   "metadata": {
    "tags": []
   },
   "outputs": [
    {
     "name": "stderr",
     "output_type": "stream",
     "text": [
      "GPU available: False, used: False\n",
      "TPU available: False, using: 0 TPU cores\n",
      "IPU available: False, using: 0 IPUs\n",
      "HPU available: False, using: 0 HPUs\n"
     ]
    }
   ],
   "source": [
    "\"\"\"lightning\"\"\"\n",
    "\n",
    "seq_vae = LightningNonlinearSSM(ssm, cfg)\n",
    "\n",
    "csv_logger = CSVLogger('logs/', name=f'r_y_{cfg.rank_local}_r_b_{cfg.rank_backward}', version='noncausal')\n",
    "ckpt_callback = ModelCheckpoint(save_top_k=3, monitor='valid_loss', mode='min', dirpath='ckpts/',\n",
    "                                filename='{epoch:0}_{valid_loss}')\n",
    "\n",
    "trainer = lightning.Trainer(max_epochs=cfg.n_epochs,\n",
    "                            gradient_clip_val=1.0,\n",
    "                            default_root_dir='lightning/',\n",
    "                            callbacks=[ckpt_callback],\n",
    "                            logger=csv_logger\n",
    "                            )"
   ]
  },
  {
   "cell_type": "code",
   "execution_count": null,
   "id": "064da6d6-1382-4dd3-a4be-ec84ee81937d",
   "metadata": {
    "tags": []
   },
   "outputs": [
    {
     "name": "stderr",
     "output_type": "stream",
     "text": [
      "/opt/anaconda3/envs/xfads/lib/python3.9/site-packages/lightning_fabric/loggers/csv_logs.py:268: Experiment logs directory logs/r_y_2_r_b_2/noncausal exists and is not empty. Previous log files in this directory will be deleted when the new ones are saved!\n",
      "\n",
      "  | Name | Type                            | Params\n",
      "---------------------------------------------------------\n",
      "0 | ssm  | LowRankNonlinearStateSpaceModel | 41.3 K\n",
      "---------------------------------------------------------\n",
      "41.0 K    Trainable params\n",
      "300       Non-trainable params\n",
      "41.3 K    Total params\n",
      "0.165     Total estimated model params size (MB)\n"
     ]
    },
    {
     "name": "stdout",
     "output_type": "stream",
     "text": [
      "Sanity Checking DataLoader 0:   0%|          | 0/2 [00:00<?, ?it/s]"
     ]
    },
    {
     "name": "stderr",
     "output_type": "stream",
     "text": [
      "/opt/anaconda3/envs/xfads/lib/python3.9/site-packages/pytorch_lightning/trainer/connectors/data_connector.py:492: Your `val_dataloader`'s sampler has shuffling enabled, it is strongly recommended that you turn shuffling off for val/test dataloaders.\n",
      "/opt/anaconda3/envs/xfads/lib/python3.9/site-packages/pytorch_lightning/trainer/connectors/data_connector.py:441: The 'val_dataloader' does not have many workers which may be a bottleneck. Consider increasing the value of the `num_workers` argument` to `num_workers=9` in the `DataLoader` to improve performance.\n"
     ]
    },
    {
     "name": "stdout",
     "output_type": "stream",
     "text": [
      "                                                                           \r"
     ]
    },
    {
     "name": "stderr",
     "output_type": "stream",
     "text": [
      "/opt/anaconda3/envs/xfads/lib/python3.9/site-packages/pytorch_lightning/trainer/connectors/data_connector.py:436: Consider setting `persistent_workers=True` in 'train_dataloader' to speed up the dataloader worker initialization.\n",
      "/opt/anaconda3/envs/xfads/lib/python3.9/site-packages/pytorch_lightning/loops/fit_loop.py:298: The number of training batches (3) is smaller than the logging interval Trainer(log_every_n_steps=50). Set a lower value for log_every_n_steps if you want to see logs for the training epoch.\n"
     ]
    },
    {
     "name": "stdout",
     "output_type": "stream",
     "text": [
      "Epoch 0: 100%|██████████| 3/3 [01:52<00:00,  0.03it/s, v_num=usal]\n",
      "Validation: |          | 0/? [00:00<?, ?it/s]\u001b[A\n",
      "Validation:   0%|          | 0/2 [00:00<?, ?it/s]\u001b[A\n",
      "Validation DataLoader 0:   0%|          | 0/2 [00:00<?, ?it/s]\u001b[A\n",
      "Validation DataLoader 0:  50%|█████     | 1/2 [00:12<00:12,  0.08it/s]\u001b[A\n",
      "Validation DataLoader 0: 100%|██████████| 2/2 [00:18<00:00,  0.11it/s]\u001b[A\n",
      "Epoch 1: 100%|██████████| 3/3 [01:31<00:00,  0.03it/s, v_num=usal]    \u001b[A\n",
      "Validation: |          | 0/? [00:00<?, ?it/s]\u001b[A\n",
      "Validation:   0%|          | 0/2 [00:00<?, ?it/s]\u001b[A\n",
      "Validation DataLoader 0:   0%|          | 0/2 [00:00<?, ?it/s]\u001b[A\n",
      "Validation DataLoader 0:  50%|█████     | 1/2 [00:17<00:17,  0.06it/s]\u001b[A\n",
      "Validation DataLoader 0: 100%|██████████| 2/2 [00:24<00:00,  0.08it/s]\u001b[A\n",
      "Epoch 2: 100%|██████████| 3/3 [01:42<00:00,  0.03it/s, v_num=usal]    \u001b[A\n",
      "Validation: |          | 0/? [00:00<?, ?it/s]\u001b[A\n",
      "Validation:   0%|          | 0/2 [00:00<?, ?it/s]\u001b[A\n",
      "Validation DataLoader 0:   0%|          | 0/2 [00:00<?, ?it/s]\u001b[A\n",
      "Validation DataLoader 0:  50%|█████     | 1/2 [00:11<00:11,  0.08it/s]\u001b[A\n",
      "Validation DataLoader 0: 100%|██████████| 2/2 [00:14<00:00,  0.13it/s]\u001b[A\n",
      "Epoch 3: 100%|██████████| 3/3 [01:28<00:00,  0.03it/s, v_num=usal]    \u001b[A\n",
      "Validation: |          | 0/? [00:00<?, ?it/s]\u001b[A\n",
      "Validation:   0%|          | 0/2 [00:00<?, ?it/s]\u001b[A\n",
      "Validation DataLoader 0:   0%|          | 0/2 [00:00<?, ?it/s]\u001b[A\n",
      "Validation DataLoader 0:  50%|█████     | 1/2 [00:12<00:12,  0.08it/s]\u001b[A\n",
      "Validation DataLoader 0: 100%|██████████| 2/2 [00:19<00:00,  0.11it/s]\u001b[A\n",
      "Epoch 4: 100%|██████████| 3/3 [01:39<00:00,  0.03it/s, v_num=usal]    \u001b[A\n",
      "Validation: |          | 0/? [00:00<?, ?it/s]\u001b[A\n",
      "Validation:   0%|          | 0/2 [00:00<?, ?it/s]\u001b[A\n",
      "Validation DataLoader 0:   0%|          | 0/2 [00:00<?, ?it/s]\u001b[A\n",
      "Validation DataLoader 0:  50%|█████     | 1/2 [00:13<00:13,  0.08it/s]\u001b[A\n",
      "Validation DataLoader 0: 100%|██████████| 2/2 [00:17<00:00,  0.11it/s]\u001b[A\n",
      "Epoch 5: 100%|██████████| 3/3 [01:44<00:00,  0.03it/s, v_num=usal]    \u001b[A\n",
      "Validation: |          | 0/? [00:00<?, ?it/s]\u001b[A\n",
      "Validation:   0%|          | 0/2 [00:00<?, ?it/s]\u001b[A\n",
      "Validation DataLoader 0:   0%|          | 0/2 [00:00<?, ?it/s]\u001b[A\n",
      "Validation DataLoader 0:  50%|█████     | 1/2 [00:15<00:15,  0.06it/s]\u001b[A\n",
      "Validation DataLoader 0: 100%|██████████| 2/2 [00:21<00:00,  0.09it/s]\u001b[A\n",
      "Epoch 6: 100%|██████████| 3/3 [01:36<00:00,  0.03it/s, v_num=usal]    \u001b[A\n",
      "Validation: |          | 0/? [00:00<?, ?it/s]\u001b[A\n",
      "Validation:   0%|          | 0/2 [00:00<?, ?it/s]\u001b[A\n",
      "Validation DataLoader 0:   0%|          | 0/2 [00:00<?, ?it/s]\u001b[A\n",
      "Validation DataLoader 0:  50%|█████     | 1/2 [00:10<00:10,  0.09it/s]\u001b[A\n",
      "Validation DataLoader 0: 100%|██████████| 2/2 [00:17<00:00,  0.12it/s]\u001b[A\n",
      "Epoch 7: 100%|██████████| 3/3 [01:24<00:00,  0.04it/s, v_num=usal]    \u001b[A\n",
      "Validation: |          | 0/? [00:00<?, ?it/s]\u001b[A\n",
      "Validation:   0%|          | 0/2 [00:00<?, ?it/s]\u001b[A\n",
      "Validation DataLoader 0:   0%|          | 0/2 [00:00<?, ?it/s]\u001b[A\n",
      "Validation DataLoader 0:  50%|█████     | 1/2 [00:14<00:14,  0.07it/s]\u001b[A\n",
      "Validation DataLoader 0: 100%|██████████| 2/2 [00:17<00:00,  0.11it/s]\u001b[A\n",
      "Epoch 8: 100%|██████████| 3/3 [01:34<00:00,  0.03it/s, v_num=usal]    \u001b[A\n",
      "Validation: |          | 0/? [00:00<?, ?it/s]\u001b[A\n",
      "Validation:   0%|          | 0/2 [00:00<?, ?it/s]\u001b[A\n",
      "Validation DataLoader 0:   0%|          | 0/2 [00:00<?, ?it/s]\u001b[A\n",
      "Validation DataLoader 0:  50%|█████     | 1/2 [00:11<00:11,  0.09it/s]\u001b[A\n",
      "Validation DataLoader 0: 100%|██████████| 2/2 [00:17<00:00,  0.11it/s]\u001b[A\n",
      "Epoch 9: 100%|██████████| 3/3 [02:11<00:00,  0.02it/s, v_num=usal]    \u001b[A\n",
      "Validation: |          | 0/? [00:00<?, ?it/s]\u001b[A\n",
      "Validation:   0%|          | 0/2 [00:00<?, ?it/s]\u001b[A\n",
      "Validation DataLoader 0:   0%|          | 0/2 [00:00<?, ?it/s]\u001b[A\n",
      "Validation DataLoader 0:  50%|█████     | 1/2 [00:16<00:16,  0.06it/s]\u001b[A\n",
      "Validation DataLoader 0: 100%|██████████| 2/2 [00:25<00:00,  0.08it/s]\u001b[A\n",
      "Epoch 10: 100%|██████████| 3/3 [02:03<00:00,  0.02it/s, v_num=usal]   \u001b[A\n",
      "Validation: |          | 0/? [00:00<?, ?it/s]\u001b[A\n",
      "Validation:   0%|          | 0/2 [00:00<?, ?it/s]\u001b[A\n",
      "Validation DataLoader 0:   0%|          | 0/2 [00:00<?, ?it/s]\u001b[A\n",
      "Validation DataLoader 0:  50%|█████     | 1/2 [00:11<00:11,  0.09it/s]\u001b[A\n",
      "Validation DataLoader 0: 100%|██████████| 2/2 [00:17<00:00,  0.12it/s]\u001b[A\n",
      "Epoch 11: 100%|██████████| 3/3 [02:06<00:00,  0.02it/s, v_num=usal]   \u001b[A\n",
      "Validation: |          | 0/? [00:00<?, ?it/s]\u001b[A\n",
      "Validation:   0%|          | 0/2 [00:00<?, ?it/s]\u001b[A\n",
      "Validation DataLoader 0:   0%|          | 0/2 [00:00<?, ?it/s]\u001b[A\n",
      "Validation DataLoader 0:  50%|█████     | 1/2 [00:19<00:19,  0.05it/s]\u001b[A\n",
      "Validation DataLoader 0: 100%|██████████| 2/2 [00:32<00:00,  0.06it/s]\u001b[A\n",
      "Epoch 12: 100%|██████████| 3/3 [02:14<00:00,  0.02it/s, v_num=usal]   \u001b[A\n",
      "Validation: |          | 0/? [00:00<?, ?it/s]\u001b[A\n",
      "Validation:   0%|          | 0/2 [00:00<?, ?it/s]\u001b[A\n",
      "Validation DataLoader 0:   0%|          | 0/2 [00:00<?, ?it/s]\u001b[A\n",
      "Validation DataLoader 0:  50%|█████     | 1/2 [00:18<00:18,  0.05it/s]\u001b[A\n",
      "Validation DataLoader 0: 100%|██████████| 2/2 [00:26<00:00,  0.07it/s]\u001b[A\n",
      "Epoch 13: 100%|██████████| 3/3 [02:18<00:00,  0.02it/s, v_num=usal]   \u001b[A\n",
      "Validation: |          | 0/? [00:00<?, ?it/s]\u001b[A\n",
      "Validation:   0%|          | 0/2 [00:00<?, ?it/s]\u001b[A\n",
      "Validation DataLoader 0:   0%|          | 0/2 [00:00<?, ?it/s]\u001b[A\n",
      "Validation DataLoader 0:  50%|█████     | 1/2 [00:15<00:15,  0.06it/s]\u001b[A\n",
      "Validation DataLoader 0: 100%|██████████| 2/2 [00:23<00:00,  0.08it/s]\u001b[A\n",
      "Epoch 14: 100%|██████████| 3/3 [02:00<00:00,  0.02it/s, v_num=usal]   \u001b[A\n",
      "Validation: |          | 0/? [00:00<?, ?it/s]\u001b[A\n",
      "Validation:   0%|          | 0/2 [00:00<?, ?it/s]\u001b[A\n",
      "Validation DataLoader 0:   0%|          | 0/2 [00:00<?, ?it/s]\u001b[A\n",
      "Validation DataLoader 0:  50%|█████     | 1/2 [00:23<00:23,  0.04it/s]\u001b[A\n",
      "Validation DataLoader 0: 100%|██████████| 2/2 [00:32<00:00,  0.06it/s]\u001b[A\n",
      "Epoch 15: 100%|██████████| 3/3 [01:52<00:00,  0.03it/s, v_num=usal]   \u001b[A\n",
      "Validation: |          | 0/? [00:00<?, ?it/s]\u001b[A\n",
      "Validation:   0%|          | 0/2 [00:00<?, ?it/s]\u001b[A\n",
      "Validation DataLoader 0:   0%|          | 0/2 [00:00<?, ?it/s]\u001b[A\n",
      "Validation DataLoader 0:  50%|█████     | 1/2 [00:19<00:19,  0.05it/s]\u001b[A\n",
      "Validation DataLoader 0: 100%|██████████| 2/2 [00:25<00:00,  0.08it/s]\u001b[A\n",
      "Epoch 16: 100%|██████████| 3/3 [02:02<00:00,  0.02it/s, v_num=usal]   \u001b[A\n",
      "Validation: |          | 0/? [00:00<?, ?it/s]\u001b[A\n",
      "Validation:   0%|          | 0/2 [00:00<?, ?it/s]\u001b[A\n",
      "Validation DataLoader 0:   0%|          | 0/2 [00:00<?, ?it/s]\u001b[A\n",
      "Validation DataLoader 0:  50%|█████     | 1/2 [00:15<00:15,  0.07it/s]\u001b[A\n",
      "Validation DataLoader 0: 100%|██████████| 2/2 [00:20<00:00,  0.10it/s]\u001b[A\n",
      "Epoch 17: 100%|██████████| 3/3 [02:20<00:00,  0.02it/s, v_num=usal]   \u001b[A\n",
      "Validation: |          | 0/? [00:00<?, ?it/s]\u001b[A\n",
      "Validation:   0%|          | 0/2 [00:00<?, ?it/s]\u001b[A\n",
      "Validation DataLoader 0:   0%|          | 0/2 [00:00<?, ?it/s]\u001b[A\n",
      "Validation DataLoader 0:  50%|█████     | 1/2 [00:15<00:15,  0.06it/s]\u001b[A\n",
      "Validation DataLoader 0: 100%|██████████| 2/2 [00:24<00:00,  0.08it/s]\u001b[A\n",
      "Epoch 18:   0%|          | 0/3 [00:00<?, ?it/s, v_num=usal]           \u001b[A"
     ]
    }
   ],
   "source": [
    "trainer.fit(model=seq_vae, train_dataloaders=train_dataloader, val_dataloaders=valid_dataloader)\n",
    "torch.save(ckpt_callback.best_model_path, 'ckpts/best_model_path.pt')"
   ]
  },
  {
   "cell_type": "code",
   "execution_count": null,
   "id": "b618fdb0-e91a-477d-98af-43249cb476a1",
   "metadata": {},
   "outputs": [],
   "source": []
  }
 ],
 "metadata": {
  "kernelspec": {
   "display_name": "xfads",
   "language": "python",
   "name": "xfads"
  },
  "language_info": {
   "codemirror_mode": {
    "name": "ipython",
    "version": 3
   },
   "file_extension": ".py",
   "mimetype": "text/x-python",
   "name": "python",
   "nbconvert_exporter": "python",
   "pygments_lexer": "ipython3",
   "version": "3.9.19"
  }
 },
 "nbformat": 4,
 "nbformat_minor": 5
}
